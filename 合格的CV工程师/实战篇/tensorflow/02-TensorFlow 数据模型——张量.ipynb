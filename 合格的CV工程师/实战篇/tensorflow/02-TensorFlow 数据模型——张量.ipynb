{
 "cells": [
  {
   "cell_type": "code",
   "execution_count": 4,
   "metadata": {},
   "outputs": [],
   "source": [
    "tensor_0 = 1                                          # 视为 0阶张量\n",
    "tensor_1 = [b\"Tensor\",b\"flow\",b\"is\",b\"great\"]         # 视为 1阶张量\n",
    "tensor_2 = [[False,True,False],\n",
    "            [True,True,False]]                        # 视为 2阶张量\n",
    "tensor_3 = [[[0,0,0],[0,0,1]],\n",
    "            [[1,0,0],[1,0,1]],\n",
    "            [[2,0,0],[2,0,1]],]                       # 视为 3阶张量"
   ]
  },
  {
   "cell_type": "code",
   "execution_count": 3,
   "metadata": {},
   "outputs": [
    {
     "name": "stdout",
     "output_type": "stream",
     "text": [
      "Tensor(\"add_2:0\", shape=(2,), dtype=float32)\n"
     ]
    }
   ],
   "source": [
    "import tensorflow as tf\n",
    "# tf.constant是一个计算，这个计算的结果为一个张量，保存在变量a中。\n",
    "a = tf.constant([1.0,2.0],name=\"a\")\n",
    "b = tf.constant([2.0,3.0],name=\"b\")\n",
    "result = tf.add(a,b,name=\"add\")\n",
    "print(result)"
   ]
  },
  {
   "cell_type": "code",
   "execution_count": null,
   "metadata": {},
   "outputs": [],
   "source": [
    "# 使用张量记录中间结果\n",
    "a = tf.constant([1.0,2.0],name=\"a\")\n",
    "b = tf.constant([2.0,3.0],name=\"b\")\n",
    "result = a+b\n",
    "\n",
    "# 直接计算向量的和，这样可读性会比较差\n",
    "result = tf.constant(([1.0,2.0],name=\"a\") + \n",
    "         tf.constant(([2.0,3.0],name=\"b\") "
   ]
  }
 ],
 "metadata": {
  "kernelspec": {
   "display_name": "Python 3",
   "language": "python",
   "name": "python3"
  },
  "language_info": {
   "codemirror_mode": {
    "name": "ipython",
    "version": 3
   },
   "file_extension": ".py",
   "mimetype": "text/x-python",
   "name": "python",
   "nbconvert_exporter": "python",
   "pygments_lexer": "ipython3",
   "version": "3.6.5"
  }
 },
 "nbformat": 4,
 "nbformat_minor": 2
}
