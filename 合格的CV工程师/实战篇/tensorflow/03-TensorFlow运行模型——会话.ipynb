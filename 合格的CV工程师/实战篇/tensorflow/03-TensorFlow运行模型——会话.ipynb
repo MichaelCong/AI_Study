{
 "cells": [
  {
   "cell_type": "code",
   "execution_count": null,
   "metadata": {},
   "outputs": [],
   "source": [
    "# 创建一个会话。\n",
    "sess = tf.Session()\n",
    "# 使用这个创建好的会话来得到关心的运算的结果。比如可以调用 sess.run (result) \n",
    "# 来得到 3.1 节样例中张量 result 的取值。\n",
    "sess.run(...)\n",
    "# 关闭会话使得本次运行巾使用到的资源可以被释放。\n",
    "sess.close()"
   ]
  },
  {
   "cell_type": "code",
   "execution_count": null,
   "metadata": {},
   "outputs": [],
   "source": [
    "#创建一个会话,并通过 Python 中的上下文管理器来管理这个会话。\n",
    "with tf. Session() as sess :\n",
    "    #使用创建好的会话来计算关心的结果。\n",
    "    sess. run ( ... )\n",
    "#不需要再调用“ Session.cl。 se ()”函数来关闭会话,\n",
    "#当上下文退出时会话关闭和资源释放也自动完成了。"
   ]
  },
  {
   "cell_type": "code",
   "execution_count": null,
   "metadata": {},
   "outputs": [],
   "source": [
    "# 通过设置默认会话计算张量的取值\n",
    "sess = tf.Session()\n",
    "with sess.as_default():\n",
    "    print(result.eval())"
   ]
  },
  {
   "cell_type": "code",
   "execution_count": null,
   "metadata": {},
   "outputs": [],
   "source": [
    "# 与上面代码功能相同\n",
    "sess = tf. Session()\n",
    "#以下两个命令有相同的功能。\n",
    "pr 工 nt(sess .run(result))\n",
    "print(result.eval (session=sess))"
   ]
  },
  {
   "cell_type": "code",
   "execution_count": null,
   "metadata": {},
   "outputs": [],
   "source": [
    "# 交互式环境下构建默认会话的函数\n",
    "sess = tf.InteractiveSes sion()\n",
    "prir > t (result. eval () )\n",
    "sess. close ()"
   ]
  },
  {
   "cell_type": "code",
   "execution_count": null,
   "metadata": {},
   "outputs": [],
   "source": [
    "config = tf.ConfigProto(al low soft placement=True,\n",
    "log_device_placem ent=True)\n",
    "sessl = tf.InteractiveSes sion(config=conf ig)\n",
    "sess2 = tf.Session(config =config)"
   ]
  }
 ],
 "metadata": {
  "kernelspec": {
   "display_name": "Python 3",
   "language": "python",
   "name": "python3"
  },
  "language_info": {
   "codemirror_mode": {
    "name": "ipython",
    "version": 3
   },
   "file_extension": ".py",
   "mimetype": "text/x-python",
   "name": "python",
   "nbconvert_exporter": "python",
   "pygments_lexer": "ipython3",
   "version": "3.6.5"
  }
 },
 "nbformat": 4,
 "nbformat_minor": 2
}
