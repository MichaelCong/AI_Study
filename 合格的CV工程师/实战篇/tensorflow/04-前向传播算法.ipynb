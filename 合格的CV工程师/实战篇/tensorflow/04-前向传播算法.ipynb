{
 "cells": [
  {
   "cell_type": "code",
   "execution_count": 13,
   "metadata": {},
   "outputs": [
    {
     "name": "stdout",
     "output_type": "stream",
     "text": [
      "[[3.957578]]\n"
     ]
    }
   ],
   "source": [
    "import tensorflow as tf\n",
    "# 声明 w1 、 w2 两个变盘。这里还通过 seed 参数设定了随机种子,\n",
    "# 这样可以保证每次运行得到的结果是一样的。\n",
    "w1 = tf.Variable(tf.random_normal((2, 3) , stddev=1 , seed=1))\n",
    "w2 = tf.Variable(tf.random_normal((3, 1), stddev=1, seed=1))\n",
    "# 暂时将输入的特征向盘定义为 一个常量。注意这里 x 是一个 1x2 的矩阵。\n",
    "x = tf.constant([[0.7, 0.9]])\n",
    "# 通过 3.4.2 节描述的前向传播算法获得神经网络的输出。\n",
    "a = tf.matmul (x, w1)\n",
    "y = tf.matmul(a, w2)\n",
    "sess = tf.Session()\n",
    "# 与 3.4.2 中的计算不同,这里不能直接通过 sess.run(y)来获取 y 的取值,\n",
    "# 因为 wl 和 w2 都还没有运行初始化过程。以下两行分别初始化了 wl 和 w2 两个变量。\n",
    "sess.run(w1.initializer)\n",
    "sess.run(w2.initializer)\n",
    "# 初始化 w1.\n",
    "# 初始化 w2.\n",
    "# 输出[( 3.95757794 ))。\n",
    "print(sess.run(y))\n",
    "sess.close()"
   ]
  },
  {
   "cell_type": "code",
   "execution_count": 21,
   "metadata": {},
   "outputs": [
    {
     "name": "stdout",
     "output_type": "stream",
     "text": [
      "[[3.957578]]\n"
     ]
    }
   ],
   "source": [
    "import tensorflow as tf\n",
    "w1 = tf.Variable(tf.random_normal([2,3],stddev=1,seed=1))\n",
    "w2 = tf.Variable(tf.random_normal([3,1],stddev=1,seed=1))\n",
    "# 定义placeholder作为存放输入数据的地方。这里维度也不一定要定义。\n",
    "# 但如果维度是确定的，那么给出维度可以降低出错的概率。\n",
    "x = tf.placeholder(tf.float32,shape=(1,2),name=\"input\")\n",
    "a = tf.matmul(x, w1)\n",
    "y = tf.matmul(a, w2)\n",
    "sess = tf.Session()\n",
    "init_op = tf.global_variables_initializer()\n",
    "sess.run(init_op)\n",
    "# 下面一行将报错：InvalidArgumentError:You must feed a value for placeholder\n",
    "# tensor 'input_1' with dtype float and shape [1,2]\n",
    "# print(sess.run(y))\n",
    "# 下面一行将会得到与前面一样的输出结果\n",
    "print(sess.run(y,feed_dict={x:[[0.7,0.9]]}))"
   ]
  }
 ],
 "metadata": {
  "kernelspec": {
   "display_name": "Python 3",
   "language": "python",
   "name": "python3"
  },
  "language_info": {
   "codemirror_mode": {
    "name": "ipython",
    "version": 3
   },
   "file_extension": ".py",
   "mimetype": "text/x-python",
   "name": "python",
   "nbconvert_exporter": "python",
   "pygments_lexer": "ipython3",
   "version": "3.6.5"
  }
 },
 "nbformat": 4,
 "nbformat_minor": 2
}
