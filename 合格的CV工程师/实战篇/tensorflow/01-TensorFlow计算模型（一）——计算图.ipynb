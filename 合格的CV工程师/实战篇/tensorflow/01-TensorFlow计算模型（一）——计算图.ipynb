{
 "cells": [
  {
   "cell_type": "code",
   "execution_count": 9,
   "metadata": {},
   "outputs": [
    {
     "name": "stdout",
     "output_type": "stream",
     "text": [
      "[0.]\n",
      "[1.]\n"
     ]
    }
   ],
   "source": [
    "import tensorflow as tf\n",
    "g1 = tf.Graph()\n",
    "with g1.as_default():\n",
    "    # 在计算图“g1”中定义变量“v”，并设置初始值为0。\n",
    "    v = tf.get_variable(\"v\",initializer=tf.zeros_initializer()(shape=[1]))\n",
    "    \n",
    "g2 = tf.Graph()\n",
    "with g2.as_default():\n",
    "    # 在计算图“g1”中定义变量“v”，并设置初始值为1。\n",
    "    v = tf.get_variable(\"v\",initializer=tf.ones_initializer()(shape=[1]))\n",
    "    \n",
    "# 在计算图g1中读取变量“v”的取值。\n",
    "with tf.Session(graph=g1) as sess:\n",
    "    tf.global_variables_initializer().run()\n",
    "    with tf.variable_scope(\"\",reuse=True):\n",
    "        # 在计算图g1中，变量“v”的取值一个为0，所以下面这行会输出[0.]。\n",
    "        print(sess.run(tf.get_variable(\"v\")))\n",
    "        \n",
    "# 在计算图g2中读取变量“v”的取值。\n",
    "with tf.Session(graph=g2) as sess:\n",
    "    tf.global_variables_initializer().run()\n",
    "    with tf.variable_scope(\"\",reuse=True):\n",
    "        # 在计算图g1中，变量“v”的取值一个为0，所以下面这行会输出[1.]。\n",
    "        print(sess.run(tf.get_variable(\"v\")))"
   ]
  },
  {
   "cell_type": "code",
   "execution_count": 12,
   "metadata": {},
   "outputs": [],
   "source": [
    "import tensorflow as tf\n",
    "a = tf.constant([1.0, 2.0], name=\"a\")\n",
    "b = tf.constant([2.0, 3.0], name=\"b\")\n",
    "result = a + b"
   ]
  },
  {
   "cell_type": "code",
   "execution_count": 14,
   "metadata": {},
   "outputs": [
    {
     "name": "stdout",
     "output_type": "stream",
     "text": [
      "Tensor(\"add_2:0\", shape=(2,), dtype=float32)\n"
     ]
    }
   ],
   "source": [
    "g = tf.Graph()\n",
    "# 指定计算运行的设备。\n",
    "with g.device('/gpu:0'):\n",
    "    result = a+b\n",
    "    print(result)"
   ]
  }
 ],
 "metadata": {
  "kernelspec": {
   "display_name": "Python 3",
   "language": "python",
   "name": "python3"
  },
  "language_info": {
   "codemirror_mode": {
    "name": "ipython",
    "version": 3
   },
   "file_extension": ".py",
   "mimetype": "text/x-python",
   "name": "python",
   "nbconvert_exporter": "python",
   "pygments_lexer": "ipython3",
   "version": "3.6.5"
  }
 },
 "nbformat": 4,
 "nbformat_minor": 2
}
